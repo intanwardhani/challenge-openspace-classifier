{
 "cells": [
  {
   "cell_type": "markdown",
   "id": "644d16a2",
   "metadata": {},
   "source": [
    "# Open Space Organiser\n",
    "\n",
    "We want to create a program that assigns 24 people to 6 tables in an openspace. Before getting started, take inventory what do we need:\n",
    "\n",
    "- People\n",
    "- Seats & Tables\n",
    "- An OpenSpace\n",
    "\n",
    "It's a good practice to start simple while you grasp the logic of the program you are trying to build and test often. For us this can translate to,\n",
    "\n",
    "- People -> List of Names (later we can figure out how to use a file)\n",
    "- Seats & Tables -> Class\n",
    "- An OpenSpace -> Class\n",
    "\n",
    "Below I've created a list of your new colleagues for reference!"
   ]
  },
  {
   "cell_type": "code",
   "execution_count": null,
   "id": "eed720c5",
   "metadata": {},
   "outputs": [],
   "source": [
    "new_colleagues = [\"Aleksei\",\"Amine\",\"Anna\",\"Astha\",\"Brigitta\",\n",
    "                 \"Bryan\",\"Ena\",\"Esra\",\"Faranges\",\"Frédéric\",\n",
    "                 \"Hamideh\",\"Héloïse\",\"Imran\",\"Intan K.\",\n",
    "                 \"Jens\",\"Kristin\",\"Michiel\",\"Nancy\",\"Pierrick\",\n",
    "                 \"Sandrine\",\"Tim\",\"Viktor\",\"Welederufeal\",\"Živile\"]"
   ]
  },
  {
   "cell_type": "markdown",
   "id": "48400771",
   "metadata": {},
   "source": [
    "## Step 1: Build a Seat\n",
    "\n",
    "Create a class called `Seat` with two attributes:\n",
    "\n",
    "- `free` which is a boolean.\n",
    "- `occupant` which is a string.\n",
    "\n",
    "and 2 functions : \n",
    "\n",
    "- `set_occupant(name)` which allows the program to assign someone a seat if it's free\n",
    "- `remove_occupant()` which  remove someone from a seat and return the name of the person occupying the seat before"
   ]
  },
  {
   "cell_type": "code",
   "execution_count": null,
   "id": "c90fde3e",
   "metadata": {},
   "outputs": [],
   "source": [
    "class Seat:\n",
    "    \n",
    "    \"\"\"A class representing a seat in the openspace.\n",
    "    \n",
    "    Attributes:\n",
    "        occupant (str): The name of the occupant of the seat.\n",
    "        free (bool): Indicates whether the seat is free or occupied.\n",
    "        \n",
    "    Methods:\n",
    "        set_occupant(name: str) -> None: Sets the occupant of the seat if it is free.\n",
    "        remove_occupant() -> None: Removes the occupant of the seat if it is occupied.\n",
    "    \"\"\"\n",
    "    \n",
    "    def __init__(self) -> None:\n",
    "        self.occupant = \"\"\n",
    "        self.isfree = True\n",
    "\n",
    "    def set_occupant(self, name: str) -> None:\n",
    "        if self.isfree:\n",
    "            self.occupant = name\n",
    "            self.isfree = False\n",
    "        else:\n",
    "            print(\"Seat is already occupied\")\n",
    "        \n",
    "    def remove_occupant(self) -> str:\n",
    "        if not self.isfree:\n",
    "            self.message = f\"Removing occupant: {self.occupant}\"\n",
    "            self.__init__()\n",
    "        return self.message\n",
    "        \n",
    "    "
   ]
  },
  {
   "cell_type": "code",
   "execution_count": null,
   "id": "4f8c29ba",
   "metadata": {},
   "outputs": [],
   "source": [
    "seat = Seat()\n",
    "seat.set_occupant(\"Intan K.\")\n",
    "print(seat.occupant, seat.isfree)\n",
    "\n",
    "seat.set_occupant(\"Amine\")\n",
    "\n",
    "message = seat.remove_occupant()\n",
    "print(message)\n",
    "print(seat.occupant, seat.isfree)\n",
    "\n",
    "\n",
    "seat.set_occupant(\"Amine\")\n",
    "print(seat.occupant, seat.isfree)\n"
   ]
  },
  {
   "cell_type": "markdown",
   "id": "760ecbaf",
   "metadata": {},
   "source": [
    "What is the input and the output of your Seat class? Does it make sense?\n",
    "\n",
    "## Step 2: Build a Table\n",
    "\n",
    "Create a class `Table` with ? attributes:\n",
    "\n",
    "- `capacity` which is an integer\n",
    "- `seats` which is a list of `Seat` objects (size = `capacity`)\n",
    "\n",
    "and 3 functions : \n",
    "- `has_free_spot()` that returns a boolean (True if a spot is available)\n",
    "- `assign_seat(name)` that places someone at the table\n",
    "- `left_capacity()` that returns an integer\n",
    "\n",
    "Question: Which attributes make sense to give? For now let's say we want to build 6 tables with 4 seats.\n"
   ]
  },
  {
   "cell_type": "code",
   "execution_count": 3,
   "id": "e87d444e",
   "metadata": {},
   "outputs": [],
   "source": [
    "class Table:\n",
    "    \n",
    "    \"\"\"A class representing a table with a certain capacity of seats.\n",
    "    \n",
    "    Attributes: \n",
    "        capacity (int): The maximum number of seats at the table.\n",
    "        seats (list): A list of Seat objects representing the seats at the table.\n",
    "        \n",
    "    Methods:\n",
    "        has_free_spot() -> bool: Checks if there is a free spot at the table.\n",
    "        assign_seat(name: str) -> None: Assigns a seat to an occupant if there is a free spot.\n",
    "        left_capacity() -> int: Returns the number of free spots left at the table.\n",
    "    \"\"\"\n",
    "    \n",
    "    def __init__(self, capacity: int, seats: list = []) -> None:\n",
    "        self.capacity = capacity\n",
    "        self.seats = seats\n",
    "        \n",
    "    def has_free_spot(self) -> bool:\n",
    "        if len(self.seats) <= self.capacity:\n",
    "            return True\n",
    "        else:\n",
    "            return False\n",
    "        \n",
    "    def assign_seat(self, name: str) -> None:\n",
    "        while self.has_free_spot():\n",
    "            self.__new_seat = Seat()\n",
    "            self.__new_seat.set_occupant(name)\n",
    "            self.seats.append(self.__new_seat)\n",
    "            print(f\"{name} has been assigned a seat.\")\n",
    "            break\n",
    "            \n",
    "    def left_capacity(self) -> int:\n",
    "        return self.capacity - len(self.seats)"
   ]
  },
  {
   "cell_type": "code",
   "execution_count": null,
   "id": "48460294",
   "metadata": {},
   "outputs": [],
   "source": [
    "table = Table(6)\n",
    "this_table = [\"Amine\", \"Intan K.\", \"Jens\", \"Héloïse\", \"Sandrine\", \"Ena\"]\n",
    "print(table.capacity, table.seats)\n",
    "print(\"Does it have free spot?\", table.has_free_spot())\n",
    "\n",
    "for person in this_table:\n",
    "    table.assign_seat(person)\n",
    "        \n",
    "\n",
    "print(\"Seats occupied:\", len(table.seats))        \n",
    "print(\"Left capacity:\", table.left_capacity())\n",
    "\n"
   ]
  },
  {
   "cell_type": "code",
   "execution_count": null,
   "id": "95640695",
   "metadata": {},
   "outputs": [],
   "source": [
    "table.assign_seat(\"Aleksei\")"
   ]
  },
  {
   "cell_type": "markdown",
   "id": "58d7a04c",
   "metadata": {},
   "source": [
    "Does the output of you test make sense? Check that each method returns the correct value.\n",
    "\n",
    "## Step 3: Build an OpenSpace\n",
    "\n",
    "Create a class `Openspace` that contains these attributes:\n",
    "\n",
    "- `tables` which is a list of `Table`. _(you will need to import `Table` from `table.py`)_. \n",
    "- `number_of_tables` which is an integer.\n",
    "\n",
    "And some methods:\n",
    "\n",
    "- `organize(names)` that will:\n",
    "  - **randomly** assign people to `Seat` objects in the different `Table` objects.\n",
    "- `display()` display the different tables and there occupants in a nice and readable way\n",
    "- `store(filename)` store the repartition in an file"
   ]
  },
  {
   "cell_type": "code",
   "execution_count": null,
   "id": "15221b61",
   "metadata": {},
   "outputs": [],
   "source": [
    "import random, pandas as pd#, table\n",
    "\n",
    "class OpenSpace:\n",
    "    \n",
    "    \"\"\"A class to organise people into tables in an open space setting.\n",
    "    \n",
    "    Attributes:\n",
    "        tables (list): A list of Table objects representing the tables in the open space.\n",
    "        number_of_tables (int): The total number of tables in the open space.\n",
    "    Methods:\n",
    "        organise(a_group: list) -> None:\n",
    "            Organises a group of people into the available tables randomly.\n",
    "    \"\"\"\n",
    "    \n",
    "    def __init__(self, number_of_tables: int, capacity: int) -> None:\n",
    "        self.tables = [Table(capacity) for _ in range(number_of_tables)]\n",
    "        self.number_of_tables = number_of_tables\n",
    "        \n",
    "    def organise(self, a_group: list) -> None:\n",
    "       \n",
    "        self.a_whole_set = dict()\n",
    "        \n",
    "        for i in range(len(self.tables)):\n",
    "            self._a_table = random.choice(self.tables)\n",
    "            self.tables.remove(self._a_table)\n",
    "            \n",
    "            random.shuffle(a_group)\n",
    "            self._a_group_part = a_group[:self._a_table.capacity]\n",
    "            a_group = a_group[self._a_table.capacity:]\n",
    "            \n",
    "            # Initialize an empty list for this table\n",
    "            table_key = f\"Table {i+1}\"\n",
    "            self.a_whole_set[table_key] = []\n",
    "            \n",
    "            for self._person in self._a_group_part:\n",
    "                print(f\"Assigning {self._person} to Table {i + 1} with capacity {self._a_table.capacity}.\")\n",
    "                self._a_table.assign_seat(self._person)\n",
    "                \n",
    "                # Append each person to the table’s list\n",
    "                self.a_whole_set[table_key].append(self._person)\n",
    "        \n",
    "    def display(self) -> dict:\n",
    "        return self.a_whole_set\n",
    "\n",
    "    def store(self, a_whole_set: dict, filename: str):\n",
    "        data = [\n",
    "            {'Table': table, 'Occupant': person}\n",
    "            for table, occupants in self.a_whole_set.items()\n",
    "            for person in occupants\n",
    "        ]\n",
    "        df = pd.DataFrame(data)\n",
    "        df.to_csv(filename, index=False, encoding='utf-8')\n",
    "        print(f\"Data exported successfully to {filename}\")\n",
    "\n",
    "        \n",
    "        "
   ]
  },
  {
   "cell_type": "code",
   "execution_count": null,
   "id": "f405183d",
   "metadata": {},
   "outputs": [],
   "source": [
    "cevi = OpenSpace(number_of_tables=6, capacity=4)\n",
    "print(cevi.tables)\n",
    "print(cevi.number_of_tables)\n",
    "\n",
    "filled_in = cevi.organise(new_collegues)\n",
    "print(filled_in)\n",
    "\n",
    "del cevi, filled_in"
   ]
  },
  {
   "cell_type": "code",
   "execution_count": null,
   "id": "6ee80633",
   "metadata": {},
   "outputs": [],
   "source": [
    "cevi.organise(new_colleagues)"
   ]
  },
  {
   "cell_type": "code",
   "execution_count": null,
   "id": "2c6f388d",
   "metadata": {},
   "outputs": [],
   "source": [
    "cevi.display()"
   ]
  },
  {
   "cell_type": "code",
   "execution_count": null,
   "id": "b811a334",
   "metadata": {},
   "outputs": [],
   "source": [
    "tables_dict = cevi.display()\n",
    "cevi.store(tables_dict, \"table_assignment.csv\")"
   ]
  },
  {
   "cell_type": "code",
   "execution_count": 13,
   "id": "43d04f56",
   "metadata": {},
   "outputs": [
    {
     "name": "stdout",
     "output_type": "stream",
     "text": [
      "50\n"
     ]
    }
   ],
   "source": [
    "a_list = [10, 20, 30, 40, 50, 60, 70, 80, 90]\n",
    "b_list = [15, 25, 35, 45, 55, 65, 75, 85, 95]\n",
    "\n",
    "c = random.choice(a_list)\n",
    "print(c)"
   ]
  }
 ],
 "metadata": {
  "kernelspec": {
   "display_name": "becodepy313",
   "language": "python",
   "name": "python3"
  },
  "language_info": {
   "codemirror_mode": {
    "name": "ipython",
    "version": 3
   },
   "file_extension": ".py",
   "mimetype": "text/x-python",
   "name": "python",
   "nbconvert_exporter": "python",
   "pygments_lexer": "ipython3",
   "version": "3.13.5"
  }
 },
 "nbformat": 4,
 "nbformat_minor": 5
}
