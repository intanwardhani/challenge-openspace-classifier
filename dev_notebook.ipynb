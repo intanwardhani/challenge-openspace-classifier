# This will be the file to build and test my code
